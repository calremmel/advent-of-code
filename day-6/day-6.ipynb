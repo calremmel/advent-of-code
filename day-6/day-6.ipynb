{
 "cells": [
  {
   "cell_type": "markdown",
   "metadata": {},
   "source": [
    "# --- Day 6: Universal Orbit Map ---"
   ]
  },
  {
   "cell_type": "code",
   "execution_count": 1,
   "metadata": {},
   "outputs": [],
   "source": [
    "from pathlib import Path\n",
    "\n",
    "\n",
    "def get_orbit_dict(orbits):\n",
    "    orbits = [x.split(\")\") for x in orbits]\n",
    "    orbit_dict = {x[1]: x[0] for x in orbits}\n",
    "    return orbit_dict\n",
    "\n",
    "\n",
    "def count_direct_orbits(orbit_dict):\n",
    "    return len(orbit_dict)\n",
    "\n",
    "\n",
    "def count_indirect_orbits(orbit_dict):\n",
    "    count = 0\n",
    "    for x in orbit_dict.keys():\n",
    "        y = orbit_dict[x]\n",
    "        while y in orbit_dict.keys():\n",
    "            count += 1\n",
    "            y = orbit_dict[y]\n",
    "    return count"
   ]
  },
  {
   "cell_type": "markdown",
   "metadata": {},
   "source": [
    "## --- Part One ---"
   ]
  },
  {
   "cell_type": "code",
   "execution_count": 2,
   "metadata": {},
   "outputs": [],
   "source": [
    "orbits = Path(\"input\").read_text().splitlines()\n",
    "\n",
    "orbit_dict = get_orbit_dict(orbits)"
   ]
  },
  {
   "cell_type": "code",
   "execution_count": 3,
   "metadata": {},
   "outputs": [],
   "source": [
    "test_input = [\n",
    "    \"COM)B\",\n",
    "    \"B)C\",\n",
    "    \"C)D\",\n",
    "    \"D)E\",\n",
    "    \"E)F\",\n",
    "    \"B)G\",\n",
    "    \"G)H\",\n",
    "    \"D)I\",\n",
    "    \"E)J\",\n",
    "    \"J)K\",\n",
    "    \"K)L\",\n",
    "]\n",
    "\n",
    "test_dict = get_orbit_dict(test_input)"
   ]
  },
  {
   "cell_type": "code",
   "execution_count": 4,
   "metadata": {},
   "outputs": [
    {
     "data": {
      "text/plain": [
       "42"
      ]
     },
     "execution_count": 4,
     "metadata": {},
     "output_type": "execute_result"
    }
   ],
   "source": [
    "count_direct_orbits(test_dict) + count_indirect_orbits(test_dict)"
   ]
  },
  {
   "cell_type": "code",
   "execution_count": 5,
   "metadata": {},
   "outputs": [
    {
     "data": {
      "text/plain": [
       "278744"
      ]
     },
     "execution_count": 5,
     "metadata": {},
     "output_type": "execute_result"
    }
   ],
   "source": [
    "count_direct_orbits(orbit_dict) + count_indirect_orbits(orbit_dict)"
   ]
  },
  {
   "cell_type": "markdown",
   "metadata": {},
   "source": [
    "## --- Part Two ---"
   ]
  },
  {
   "cell_type": "code",
   "execution_count": 6,
   "metadata": {},
   "outputs": [],
   "source": [
    "def find_route(orbit_dict, you, san):\n",
    "    start = orbit_dict[you]\n",
    "    finish = orbit_dict[san]\n",
    "\n",
    "    you_orbits = []\n",
    "    san_orbits = []\n",
    "\n",
    "    y = you\n",
    "    while y in orbit_dict.keys():\n",
    "        you_orbits.append(y)\n",
    "        y = orbit_dict[y]\n",
    "    you_orbits.append(y)\n",
    "    y = san\n",
    "    while y in orbit_dict.keys():\n",
    "        san_orbits.append(y)\n",
    "        y = orbit_dict[y]\n",
    "    san_orbits.append(y)\n",
    "\n",
    "    for x in you_orbits:\n",
    "        if x in san_orbits:\n",
    "            intersection = x\n",
    "            break\n",
    "\n",
    "    part_one = len(you_orbits[you_orbits.index(start) : you_orbits.index(intersection)])\n",
    "    part_two = len(\n",
    "        san_orbits[san_orbits.index(finish) : san_orbits.index(intersection)]\n",
    "    )\n",
    "    return part_one + part_two"
   ]
  },
  {
   "cell_type": "code",
   "execution_count": 7,
   "metadata": {},
   "outputs": [],
   "source": [
    "test_input = [\n",
    "    \"COM)B\",\n",
    "    \"B)C\",\n",
    "    \"C)D\",\n",
    "    \"D)E\",\n",
    "    \"E)F\",\n",
    "    \"B)G\",\n",
    "    \"G)H\",\n",
    "    \"D)I\",\n",
    "    \"E)J\",\n",
    "    \"J)K\",\n",
    "    \"K)L\",\n",
    "    \"K)YOU\",\n",
    "    \"I)SAN\",\n",
    "]\n",
    "\n",
    "test_dict = get_orbit_dict(test_input)"
   ]
  },
  {
   "cell_type": "code",
   "execution_count": 48,
   "metadata": {},
   "outputs": [
    {
     "data": {
      "text/plain": [
       "4"
      ]
     },
     "execution_count": 48,
     "metadata": {},
     "output_type": "execute_result"
    }
   ],
   "source": [
    "find_route(test_dict, \"YOU\", \"SAN\")"
   ]
  },
  {
   "cell_type": "code",
   "execution_count": 45,
   "metadata": {},
   "outputs": [
    {
     "data": {
      "text/plain": [
       "475"
      ]
     },
     "execution_count": 45,
     "metadata": {},
     "output_type": "execute_result"
    }
   ],
   "source": [
    "find_route(orbit_dict, \"YOU\", \"SAN\")"
   ]
  }
 ],
 "metadata": {
  "kernelspec": {
   "display_name": "Python 3",
   "language": "python",
   "name": "python3"
  },
  "language_info": {
   "codemirror_mode": {
    "name": "ipython",
    "version": 3
   },
   "file_extension": ".py",
   "mimetype": "text/x-python",
   "name": "python",
   "nbconvert_exporter": "python",
   "pygments_lexer": "ipython3",
   "version": "3.7.3"
  }
 },
 "nbformat": 4,
 "nbformat_minor": 4
}
