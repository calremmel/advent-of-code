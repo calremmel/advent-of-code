{
 "cells": [
  {
   "cell_type": "markdown",
   "metadata": {},
   "source": [
    "# --- Day 4: Secure Container ---\n",
    "\n",
    "You arrive at the Venus fuel depot only to discover it's protected by a password. The Elves had written the password on a sticky note, but someone threw it out.\n",
    "\n",
    "However, they do remember a few key facts about the password:\n",
    "\n",
    "    It is a six-digit number.\n",
    "    The value is within the range given in your puzzle input.\n",
    "    Two adjacent digits are the same (like 22 in 122345).\n",
    "    Going from left to right, the digits never decrease; they only ever increase or stay the same (like 111123 or 135679)."
   ]
  },
  {
   "cell_type": "code",
   "execution_count": 1,
   "metadata": {},
   "outputs": [],
   "source": [
    "def check_repeat(number):\n",
    "    repeats = [str(x) * 2 for x in range(10)]\n",
    "    for repeat in repeats:\n",
    "        if repeat in str(number):\n",
    "            return True\n",
    "    return False"
   ]
  },
  {
   "cell_type": "code",
   "execution_count": 2,
   "metadata": {},
   "outputs": [],
   "source": [
    "def check_always_increase(number):\n",
    "    digits = [int(x) for x in list(str(number))]\n",
    "    for idx in range(len(digits) - 1):\n",
    "        this_digit = digits[idx]\n",
    "        later_digits = digits[idx + 1 :]\n",
    "        if min(later_digits) < this_digit:\n",
    "            return False\n",
    "    return True"
   ]
  },
  {
   "cell_type": "code",
   "execution_count": 3,
   "metadata": {},
   "outputs": [],
   "source": [
    "def check_criteria(number):\n",
    "    return check_repeat(number) and check_always_increase(number)"
   ]
  },
  {
   "cell_type": "markdown",
   "metadata": {},
   "source": [
    "Other than the range rule, the following are true:\n",
    "\n",
    "111111 meets these criteria (double 11, never decreases)."
   ]
  },
  {
   "cell_type": "code",
   "execution_count": 4,
   "metadata": {},
   "outputs": [
    {
     "data": {
      "text/plain": [
       "True"
      ]
     },
     "execution_count": 4,
     "metadata": {},
     "output_type": "execute_result"
    }
   ],
   "source": [
    "check_criteria(111111)"
   ]
  },
  {
   "cell_type": "markdown",
   "metadata": {},
   "source": [
    "223450 does not meet these criteria (decreasing pair of digits 50)."
   ]
  },
  {
   "cell_type": "code",
   "execution_count": 5,
   "metadata": {},
   "outputs": [
    {
     "data": {
      "text/plain": [
       "False"
      ]
     },
     "execution_count": 5,
     "metadata": {},
     "output_type": "execute_result"
    }
   ],
   "source": [
    "check_criteria(223450)"
   ]
  },
  {
   "cell_type": "markdown",
   "metadata": {},
   "source": [
    "123789 does not meet these criteria (no double)."
   ]
  },
  {
   "cell_type": "code",
   "execution_count": 6,
   "metadata": {},
   "outputs": [
    {
     "data": {
      "text/plain": [
       "False"
      ]
     },
     "execution_count": 6,
     "metadata": {},
     "output_type": "execute_result"
    }
   ],
   "source": [
    "check_criteria(123789)"
   ]
  },
  {
   "cell_type": "markdown",
   "metadata": {},
   "source": [
    "How many different passwords within the range given in your puzzle input meet these criteria?"
   ]
  },
  {
   "cell_type": "code",
   "execution_count": 7,
   "metadata": {},
   "outputs": [],
   "source": [
    "passwords = [x for x in range(124075, 580770) if check_criteria(x) == True]"
   ]
  },
  {
   "cell_type": "code",
   "execution_count": 8,
   "metadata": {},
   "outputs": [
    {
     "data": {
      "text/plain": [
       "2150"
      ]
     },
     "execution_count": 8,
     "metadata": {},
     "output_type": "execute_result"
    }
   ],
   "source": [
    "len(passwords)"
   ]
  },
  {
   "cell_type": "markdown",
   "metadata": {},
   "source": [
    "# --- Part Two ---\n",
    "\n",
    "An Elf just remembered one more important detail: the two adjacent matching digits are not part of a larger group of matching digits."
   ]
  },
  {
   "cell_type": "code",
   "execution_count": 9,
   "metadata": {},
   "outputs": [],
   "source": [
    "def check_discrete_repeat(number):\n",
    "    repeats = [str(x) * 2 for x in range(10)]\n",
    "    longer_repeats = {\n",
    "        repeat: [repeat[0] * x for x in range(3, 7)] for repeat in repeats\n",
    "    }\n",
    "    for repeat in repeats:\n",
    "        if repeat in str(number):\n",
    "            for long_repeat in longer_repeats[repeat]:\n",
    "                if long_repeat in str(number):\n",
    "                    break\n",
    "                else:\n",
    "                    return True\n",
    "    return False"
   ]
  },
  {
   "cell_type": "code",
   "execution_count": 10,
   "metadata": {},
   "outputs": [],
   "source": [
    "def check_updated_criteria(number):\n",
    "    return check_discrete_repeat(number) and check_always_increase(number)"
   ]
  },
  {
   "cell_type": "markdown",
   "metadata": {},
   "source": [
    "Given this additional criterion, but still ignoring the range rule, the following are now true:\n",
    "\n",
    "112233 meets these criteria because the digits never decrease and all repeated digits are exactly two digits long."
   ]
  },
  {
   "cell_type": "code",
   "execution_count": 11,
   "metadata": {},
   "outputs": [
    {
     "data": {
      "text/plain": [
       "True"
      ]
     },
     "execution_count": 11,
     "metadata": {},
     "output_type": "execute_result"
    }
   ],
   "source": [
    "check_updated_criteria(112233)"
   ]
  },
  {
   "cell_type": "markdown",
   "metadata": {},
   "source": [
    "123444 no longer meets the criteria (the repeated 44 is part of a larger group of 444)."
   ]
  },
  {
   "cell_type": "code",
   "execution_count": 12,
   "metadata": {},
   "outputs": [
    {
     "data": {
      "text/plain": [
       "False"
      ]
     },
     "execution_count": 12,
     "metadata": {},
     "output_type": "execute_result"
    }
   ],
   "source": [
    "check_updated_criteria(123444)"
   ]
  },
  {
   "cell_type": "markdown",
   "metadata": {},
   "source": [
    "111122 meets the criteria (even though 1 is repeated more than twice, it still contains a double 22)."
   ]
  },
  {
   "cell_type": "code",
   "execution_count": 13,
   "metadata": {},
   "outputs": [
    {
     "data": {
      "text/plain": [
       "True"
      ]
     },
     "execution_count": 13,
     "metadata": {},
     "output_type": "execute_result"
    }
   ],
   "source": [
    "check_updated_criteria(111122)"
   ]
  },
  {
   "cell_type": "markdown",
   "metadata": {},
   "source": [
    "How many different passwords within the range given in your puzzle input meet all of the criteria?"
   ]
  },
  {
   "cell_type": "code",
   "execution_count": 14,
   "metadata": {},
   "outputs": [],
   "source": [
    "updated_passwords = [\n",
    "    x for x in range(124075, 580770) if check_updated_criteria(x) == True\n",
    "]"
   ]
  },
  {
   "cell_type": "code",
   "execution_count": 15,
   "metadata": {},
   "outputs": [
    {
     "data": {
      "text/plain": [
       "1462"
      ]
     },
     "execution_count": 15,
     "metadata": {},
     "output_type": "execute_result"
    }
   ],
   "source": [
    "len(updated_passwords)"
   ]
  }
 ],
 "metadata": {
  "kernelspec": {
   "display_name": "Python 3",
   "language": "python",
   "name": "python3"
  },
  "language_info": {
   "codemirror_mode": {
    "name": "ipython",
    "version": 3
   },
   "file_extension": ".py",
   "mimetype": "text/x-python",
   "name": "python",
   "nbconvert_exporter": "python",
   "pygments_lexer": "ipython3",
   "version": "3.7.3"
  }
 },
 "nbformat": 4,
 "nbformat_minor": 4
}
