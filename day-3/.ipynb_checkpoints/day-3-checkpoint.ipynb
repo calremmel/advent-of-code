{
 "cells": [
  {
   "cell_type": "markdown",
   "metadata": {},
   "source": [
    "# --- Day 3: Crossed Wires ---\n",
    "\n",
    "Specifically, two wires are connected to a central port and extend outward on a grid. You trace the path each wire takes as it leaves the central port, one wire per line of text (your puzzle input).\n",
    "\n",
    "The wires twist and turn, but the two wires occasionally cross paths. To fix the circuit, you need to find the intersection point closest to the central port. Because the wires are on a grid, use the Manhattan distance for this measurement. While the wires do technically cross right at the central port where they both start, this point does not count, nor does a wire count as crossing with itself."
   ]
  },
  {
   "cell_type": "code",
   "execution_count": 1,
   "metadata": {},
   "outputs": [],
   "source": [
    "from pathlib import Path"
   ]
  },
  {
   "cell_type": "code",
   "execution_count": 2,
   "metadata": {},
   "outputs": [],
   "source": [
    "def travel(points, instruction):\n",
    "    direction = instruction[0]\n",
    "    distance = int(instruction[1:])\n",
    "    x = points[-1][0]\n",
    "    y = points[-1][1]\n",
    "    if direction == \"R\":\n",
    "        new_points = [(x + t, y) for t in range(1, distance + 1)]\n",
    "    if direction == \"L\":\n",
    "        new_points = [(x - t, y) for t in range(1, distance + 1)]\n",
    "    if direction == \"U\":\n",
    "        new_points = [(x, y + t) for t in range(1, distance + 1)]\n",
    "    if direction == \"D\":\n",
    "        new_points = [(x, y - t) for t in range(1, distance + 1)]\n",
    "    points += new_points\n",
    "    return points"
   ]
  },
  {
   "cell_type": "code",
   "execution_count": 3,
   "metadata": {},
   "outputs": [],
   "source": [
    "def get_points(start, instructions):\n",
    "    points = start\n",
    "    for instruction in instructions:\n",
    "        points = travel(points, instruction)\n",
    "    return points"
   ]
  },
  {
   "cell_type": "code",
   "execution_count": 4,
   "metadata": {},
   "outputs": [],
   "source": [
    "def manhattan(p1, p2):\n",
    "    return sum([abs(a - b) for a, b in zip(p1, p2)])"
   ]
  },
  {
   "cell_type": "code",
   "execution_count": 5,
   "metadata": {},
   "outputs": [],
   "source": [
    "def get_shortest_distance(paths):\n",
    "    line_one_instructions = paths[0].split(\",\")\n",
    "    line_two_instructions = paths[1].split(\",\")\n",
    "\n",
    "    line_one_points = get_points([(0, 0)], line_one_instructions)\n",
    "    line_two_points = get_points([(0, 0)], line_two_instructions)\n",
    "\n",
    "    intersections = list(set(line_one_points).intersection(set(line_two_points)))\n",
    "\n",
    "    distances = [manhattan((0, 0), point) for point in intersections]\n",
    "    distances_greater_than_zero = [distance for distance in distances if distance != 0]\n",
    "\n",
    "    return min(distances_greater_than_zero)"
   ]
  },
  {
   "cell_type": "code",
   "execution_count": 6,
   "metadata": {},
   "outputs": [],
   "source": [
    "test_paths_one = [\n",
    "    \"R75,D30,R83,U83,L12,D49,R71,U7,L72\",\n",
    "    \"U62,R66,U55,R34,D71,R55,D58,R83\",\n",
    "]\n",
    "test_paths_two = [\n",
    "    \"R98,U47,R26,D63,R33,U87,L62,D20,R33,U53,R51\",\n",
    "    \"U98,R91,D20,R16,D67,R40,U7,R15,U6,R7\",\n",
    "]\n",
    "paths = Path(\"input\").read_text().splitlines()"
   ]
  },
  {
   "cell_type": "code",
   "execution_count": 7,
   "metadata": {},
   "outputs": [
    {
     "data": {
      "text/plain": [
       "159"
      ]
     },
     "execution_count": 7,
     "metadata": {},
     "output_type": "execute_result"
    }
   ],
   "source": [
    "# Should be 159\n",
    "get_shortest_distance(test_paths_one)"
   ]
  },
  {
   "cell_type": "code",
   "execution_count": 8,
   "metadata": {},
   "outputs": [
    {
     "data": {
      "text/plain": [
       "135"
      ]
     },
     "execution_count": 8,
     "metadata": {},
     "output_type": "execute_result"
    }
   ],
   "source": [
    "# Should be 135\n",
    "get_shortest_distance(test_paths_two)"
   ]
  },
  {
   "cell_type": "code",
   "execution_count": 9,
   "metadata": {},
   "outputs": [
    {
     "data": {
      "text/plain": [
       "1084"
      ]
     },
     "execution_count": 9,
     "metadata": {},
     "output_type": "execute_result"
    }
   ],
   "source": [
    "get_shortest_distance(paths)"
   ]
  },
  {
   "cell_type": "markdown",
   "metadata": {},
   "source": [
    "## --- Part Two ---\n",
    "\n",
    "It turns out that this circuit is very timing-sensitive; you actually need to minimize the signal delay.\n",
    "\n",
    "To do this, calculate the number of steps each wire takes to reach each intersection; choose the intersection where the sum of both wires' steps is lowest. If a wire visits a position on the grid multiple times, use the steps value from the first time it visits that position when calculating the total value of a specific intersection.\n",
    "\n",
    "The number of steps a wire takes is the total number of grid squares the wire has entered to get to that location, including the intersection being considered."
   ]
  },
  {
   "cell_type": "code",
   "execution_count": 10,
   "metadata": {},
   "outputs": [],
   "source": [
    "def get_fewest_steps(paths):\n",
    "    line_one_instructions = paths[0].split(\",\")\n",
    "    line_two_instructions = paths[1].split(\",\")\n",
    "\n",
    "    line_one_points = get_points([(0, 0)], line_one_instructions)\n",
    "    line_two_points = get_points([(0, 0)], line_two_instructions)\n",
    "\n",
    "    intersections = list(set(line_one_points).intersection(set(line_two_points)))\n",
    "\n",
    "    steps_dict = {\n",
    "        line_one_points.index(intersection)\n",
    "        + (line_two_points).index(intersection): intersection\n",
    "        for intersection in intersections\n",
    "        if intersection != (0, 0)\n",
    "    }\n",
    "    return min(steps_dict.keys())"
   ]
  },
  {
   "cell_type": "code",
   "execution_count": 11,
   "metadata": {},
   "outputs": [
    {
     "data": {
      "text/plain": [
       "610"
      ]
     },
     "execution_count": 11,
     "metadata": {},
     "output_type": "execute_result"
    }
   ],
   "source": [
    "# Should be 610\n",
    "get_fewest_steps(test_paths_one)"
   ]
  },
  {
   "cell_type": "code",
   "execution_count": 12,
   "metadata": {},
   "outputs": [
    {
     "data": {
      "text/plain": [
       "410"
      ]
     },
     "execution_count": 12,
     "metadata": {},
     "output_type": "execute_result"
    }
   ],
   "source": [
    "# Should be 410\n",
    "get_fewest_steps(test_paths_two)"
   ]
  },
  {
   "cell_type": "code",
   "execution_count": 13,
   "metadata": {},
   "outputs": [
    {
     "data": {
      "text/plain": [
       "9240"
      ]
     },
     "execution_count": 13,
     "metadata": {},
     "output_type": "execute_result"
    }
   ],
   "source": [
    "get_fewest_steps(paths)"
   ]
  }
 ],
 "metadata": {
  "kernelspec": {
   "display_name": "Python 3",
   "language": "python",
   "name": "python3"
  },
  "language_info": {
   "codemirror_mode": {
    "name": "ipython",
    "version": 3
   },
   "file_extension": ".py",
   "mimetype": "text/x-python",
   "name": "python",
   "nbconvert_exporter": "python",
   "pygments_lexer": "ipython3",
   "version": "3.7.3"
  }
 },
 "nbformat": 4,
 "nbformat_minor": 4
}
