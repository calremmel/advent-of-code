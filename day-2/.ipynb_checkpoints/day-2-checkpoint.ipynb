{
 "cells": [
  {
   "cell_type": "markdown",
   "metadata": {},
   "source": [
    "# --- Day 2: 1202 Program Alarm ---"
   ]
  },
  {
   "cell_type": "code",
   "execution_count": 1,
   "metadata": {},
   "outputs": [],
   "source": [
    "import pandas as pd\n",
    "import numpy as np"
   ]
  },
  {
   "cell_type": "code",
   "execution_count": 2,
   "metadata": {},
   "outputs": [],
   "source": [
    "intcode = pd.read_csv(\"input\", header=None, squeeze=True).T"
   ]
  },
  {
   "cell_type": "code",
   "execution_count": 3,
   "metadata": {},
   "outputs": [],
   "source": [
    "def run_intcode(intcode):\n",
    "    intcode = pd.Series(intcode)\n",
    "    for i in np.arange(0, len(intcode), 4):\n",
    "        opcode = int(intcode.iloc[i])\n",
    "        if opcode == 99:\n",
    "            break\n",
    "        a = int(intcode.iloc[i + 1])\n",
    "        b = int(intcode.iloc[i + 2])\n",
    "        pos = int(intcode.iloc[i + 3])\n",
    "        if opcode == 1:\n",
    "            try:\n",
    "                intcode.iloc[pos] = int(intcode.iloc[a]) + int(intcode.iloc[b])\n",
    "            except:\n",
    "                print(\"Uh oh!\")\n",
    "                return list(intcode)\n",
    "        if opcode == 2:\n",
    "            try:\n",
    "                intcode.iloc[pos] = int(intcode.iloc[a]) * int(intcode.iloc[b])\n",
    "            except:\n",
    "                print(\"Uh oh!\")\n",
    "                return list(intcode)\n",
    "    return list(intcode)"
   ]
  },
  {
   "cell_type": "markdown",
   "metadata": {},
   "source": [
    "Here are the initial and final states of a few more small programs:\n",
    "\n",
    "1,0,0,0,99 becomes 2,0,0,0,99 (1 + 1 = 2)."
   ]
  },
  {
   "cell_type": "code",
   "execution_count": 4,
   "metadata": {},
   "outputs": [
    {
     "data": {
      "text/plain": [
       "[2, 0, 0, 0, 99]"
      ]
     },
     "execution_count": 4,
     "metadata": {},
     "output_type": "execute_result"
    }
   ],
   "source": [
    "run_intcode([1, 0, 0, 0, 99])"
   ]
  },
  {
   "cell_type": "markdown",
   "metadata": {},
   "source": [
    "2,3,0,3,99 becomes 2,3,0,6,99 (3 * 2 = 6)."
   ]
  },
  {
   "cell_type": "code",
   "execution_count": 5,
   "metadata": {},
   "outputs": [
    {
     "data": {
      "text/plain": [
       "[2, 3, 0, 6, 99]"
      ]
     },
     "execution_count": 5,
     "metadata": {},
     "output_type": "execute_result"
    }
   ],
   "source": [
    "run_intcode([2, 3, 0, 3, 99])"
   ]
  },
  {
   "cell_type": "markdown",
   "metadata": {},
   "source": [
    "2,4,4,5,99,0 becomes 2,4,4,5,99,9801 (99 * 99 = 9801)."
   ]
  },
  {
   "cell_type": "code",
   "execution_count": 6,
   "metadata": {},
   "outputs": [
    {
     "data": {
      "text/plain": [
       "[2, 4, 4, 5, 99, 9801]"
      ]
     },
     "execution_count": 6,
     "metadata": {},
     "output_type": "execute_result"
    }
   ],
   "source": [
    "run_intcode([2, 4, 4, 5, 99, 0])"
   ]
  },
  {
   "cell_type": "markdown",
   "metadata": {},
   "source": [
    "1,1,1,4,99,5,6,0,99 becomes 30,1,1,4,2,5,6,0,99."
   ]
  },
  {
   "cell_type": "code",
   "execution_count": 7,
   "metadata": {},
   "outputs": [
    {
     "data": {
      "text/plain": [
       "[30, 1, 1, 4, 2, 5, 6, 0, 99]"
      ]
     },
     "execution_count": 7,
     "metadata": {},
     "output_type": "execute_result"
    }
   ],
   "source": [
    "run_intcode([1, 1, 1, 4, 99, 5, 6, 0, 99])"
   ]
  },
  {
   "cell_type": "markdown",
   "metadata": {},
   "source": [
    "Once you have a working computer, the first step is to restore the gravity assist program (your puzzle input) to the \"1202 program alarm\" state it had just before the last computer caught fire. To do this, before running the program, replace position 1 with the value 12 and replace position 2 with the value 2."
   ]
  },
  {
   "cell_type": "code",
   "execution_count": 8,
   "metadata": {},
   "outputs": [],
   "source": [
    "alarm_intcode = intcode.copy()\n",
    "alarm_intcode.iloc[1] = 12\n",
    "alarm_intcode.iloc[2] = 2\n",
    "alarm_intcode = alarm_intcode.iloc[:, 0]"
   ]
  },
  {
   "cell_type": "markdown",
   "metadata": {},
   "source": [
    "What value is left at position 0 after the program halts?"
   ]
  },
  {
   "cell_type": "code",
   "execution_count": 9,
   "metadata": {},
   "outputs": [],
   "source": [
    "result = run_intcode(alarm_intcode)"
   ]
  },
  {
   "cell_type": "code",
   "execution_count": 10,
   "metadata": {},
   "outputs": [
    {
     "data": {
      "text/plain": [
       "4330636"
      ]
     },
     "execution_count": 10,
     "metadata": {},
     "output_type": "execute_result"
    }
   ],
   "source": [
    "result[0]"
   ]
  },
  {
   "cell_type": "markdown",
   "metadata": {},
   "source": [
    "## --- Part Two ---"
   ]
  },
  {
   "cell_type": "code",
   "execution_count": 11,
   "metadata": {},
   "outputs": [],
   "source": [
    "def intcode_search(intcode):\n",
    "    for noun in range(0, 100):\n",
    "        for verb in range(0, 100):\n",
    "            temp_intcode = intcode.copy()\n",
    "            temp_intcode.iloc[1] = noun\n",
    "            temp_intcode.iloc[2] = verb\n",
    "            result = run_intcode(temp_intcode)\n",
    "            if result[0] == 19690720:\n",
    "                return (noun, verb)"
   ]
  },
  {
   "cell_type": "code",
   "execution_count": 12,
   "metadata": {},
   "outputs": [
    {
     "data": {
      "text/plain": [
       "(60, 86)"
      ]
     },
     "execution_count": 12,
     "metadata": {},
     "output_type": "execute_result"
    }
   ],
   "source": [
    "intcode_search(intcode.iloc[:, 0])"
   ]
  },
  {
   "cell_type": "code",
   "execution_count": 13,
   "metadata": {},
   "outputs": [
    {
     "data": {
      "text/plain": [
       "6086"
      ]
     },
     "execution_count": 13,
     "metadata": {},
     "output_type": "execute_result"
    }
   ],
   "source": [
    "100 * 60 + 86"
   ]
  }
 ],
 "metadata": {
  "kernelspec": {
   "display_name": "Python 3",
   "language": "python",
   "name": "python3"
  },
  "language_info": {
   "codemirror_mode": {
    "name": "ipython",
    "version": 3
   },
   "file_extension": ".py",
   "mimetype": "text/x-python",
   "name": "python",
   "nbconvert_exporter": "python",
   "pygments_lexer": "ipython3",
   "version": "3.7.3"
  }
 },
 "nbformat": 4,
 "nbformat_minor": 4
}
