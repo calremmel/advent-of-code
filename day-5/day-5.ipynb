{
 "cells": [
  {
   "cell_type": "markdown",
   "metadata": {},
   "source": [
    "# --- Day 5: Sunny with a Chance of Asteroids ---"
   ]
  },
  {
   "cell_type": "code",
   "execution_count": 1,
   "metadata": {},
   "outputs": [],
   "source": [
    "from pathlib import Path"
   ]
  },
  {
   "cell_type": "code",
   "execution_count": 2,
   "metadata": {},
   "outputs": [],
   "source": [
    "def read_instruction(program, idx):\n",
    "    opcode = str(program[idx])\n",
    "    if opcode[-1:] in [\"1\", \"2\", \"7\", \"8\"]:\n",
    "        while len(opcode) != 5:\n",
    "            opcode = \"0\" + opcode\n",
    "        instruction = [opcode[-2:], opcode[-3], opcode[-4], opcode[-5]]\n",
    "        return instruction\n",
    "    if opcode[-1:] in [\"5\", \"6\"]:\n",
    "        while len(opcode) != 4:\n",
    "            opcode = \"0\" + opcode\n",
    "        instruction = [opcode[-2:], opcode[-3], opcode[-4]]\n",
    "        return instruction\n",
    "    if opcode[-1:] in [\"3\", \"4\"]:\n",
    "        while len(opcode) != 3:\n",
    "            opcode = \"0\" + opcode\n",
    "        instruction = [opcode[-2:], opcode[-3]]\n",
    "        return instruction\n",
    "\n",
    "\n",
    "def get_value(program, param, mode):\n",
    "    if mode == \"0\":\n",
    "        return program[param]\n",
    "    if mode == \"1\":\n",
    "        return param\n",
    "\n",
    "\n",
    "def opcode_one(program, idx, instruction):\n",
    "    l1 = get_value(program, program[idx + 1], instruction[1])\n",
    "    l2 = get_value(program, program[idx + 2], instruction[2])\n",
    "    loc = program[idx + 3]\n",
    "    program[loc] = l1 + l2\n",
    "    idx = idx + 4\n",
    "    return program, idx\n",
    "\n",
    "\n",
    "def opcode_two(program, idx, instruction):\n",
    "    l1 = get_value(program, program[idx + 1], instruction[1])\n",
    "    l2 = get_value(program, program[idx + 2], instruction[2])\n",
    "    loc = program[idx + 3]\n",
    "    program[loc] = l1 * l2\n",
    "    idx = idx + 4\n",
    "    return program, idx\n",
    "\n",
    "\n",
    "def opcode_three(program, idx, instruction):\n",
    "    value = input()\n",
    "    address = program[idx + 1]\n",
    "    program[address] = int(value)\n",
    "    idx = idx + 2\n",
    "    return program, idx\n",
    "\n",
    "\n",
    "def opcode_four(program, idx, instruction):\n",
    "    address = program[idx + 1]\n",
    "    print(program[address])\n",
    "    idx = idx + 2\n",
    "    return idx\n",
    "\n",
    "\n",
    "def opcode_five(program, idx, instruction):\n",
    "    l1 = get_value(program, program[idx + 1], instruction[1])\n",
    "    if l1 != 0:\n",
    "        l2 = get_value(program, program[idx + 2], instruction[2])\n",
    "        idx = l2\n",
    "    else:\n",
    "        idx = idx + 3\n",
    "    return program, idx\n",
    "\n",
    "\n",
    "def opcode_six(program, idx, instruction):\n",
    "    l1 = get_value(program, program[idx + 1], instruction[1])\n",
    "    if l1 == 0:\n",
    "        l2 = get_value(program, program[idx + 2], instruction[2])\n",
    "        idx = l2\n",
    "    else:\n",
    "        idx = idx + 3\n",
    "    return program, idx\n",
    "\n",
    "\n",
    "def opcode_seven(program, idx, instruction):\n",
    "    l1 = get_value(program, program[idx + 1], instruction[1])\n",
    "    l2 = get_value(program, program[idx + 2], instruction[2])\n",
    "    loc = program[idx + 3]\n",
    "    if l1 < l2:\n",
    "        program[loc] = 1\n",
    "    else:\n",
    "        program[loc] = 0\n",
    "    idx = idx + 4\n",
    "    return program, idx\n",
    "\n",
    "\n",
    "def opcode_eight(program, idx, instruction):\n",
    "    l1 = get_value(program, program[idx + 1], instruction[1])\n",
    "    l2 = get_value(program, program[idx + 2], instruction[2])\n",
    "    loc = program[idx + 3]\n",
    "    if l1 == l2:\n",
    "        program[loc] = 1\n",
    "    else:\n",
    "        program[loc] = 0\n",
    "    idx = idx + 4\n",
    "    return program, idx\n",
    "\n",
    "\n",
    "def intcode(program):\n",
    "    idx = 0\n",
    "    opcode = program[idx]\n",
    "    while opcode != 99:\n",
    "        instruction = read_instruction(program, idx)\n",
    "        if instruction[0][-2:] == \"01\":\n",
    "            program, idx = opcode_one(program, idx, instruction)\n",
    "            opcode = program[idx]\n",
    "        if instruction[0][-2:] == \"02\":\n",
    "            program, idx = opcode_two(program, idx, instruction)\n",
    "            opcode = program[idx]\n",
    "        if instruction[0][-2:] == \"03\":\n",
    "            program, idx = opcode_three(program, idx, instruction)\n",
    "            opcode = program[idx]\n",
    "        if instruction[0][-2:] == \"04\":\n",
    "            idx = opcode_four(program, idx, instruction)\n",
    "            opcode = program[idx]\n",
    "        if instruction[0][-2:] == \"05\":\n",
    "            program, idx = opcode_five(program, idx, instruction)\n",
    "            opcode = program[idx]\n",
    "        if instruction[0][-2:] == \"06\":\n",
    "            program, idx = opcode_six(program, idx, instruction)\n",
    "            opcode = program[idx]\n",
    "        if instruction[0][-2:] == \"07\":\n",
    "            program, idx = opcode_seven(program, idx, instruction)\n",
    "            opcode = program[idx]\n",
    "        if instruction[0][-2:] == \"08\":\n",
    "            program, idx = opcode_eight(program, idx, instruction)\n",
    "            opcode = program[idx]\n",
    "    return program"
   ]
  },
  {
   "cell_type": "markdown",
   "metadata": {},
   "source": [
    "## --- Part One ---"
   ]
  },
  {
   "cell_type": "code",
   "execution_count": 3,
   "metadata": {},
   "outputs": [
    {
     "name": "stdin",
     "output_type": "stream",
     "text": [
      " 1\n"
     ]
    },
    {
     "name": "stdout",
     "output_type": "stream",
     "text": [
      "3\n",
      "0\n",
      "0\n",
      "0\n",
      "0\n",
      "0\n",
      "0\n",
      "0\n",
      "0\n",
      "15508323\n"
     ]
    }
   ],
   "source": [
    "code = Path(\"input.txt\").read_text().splitlines()\n",
    "code = [int(x) for x in code[0].split(\",\")]\n",
    "part_one = intcode(code)"
   ]
  },
  {
   "cell_type": "markdown",
   "metadata": {},
   "source": [
    "## --- Part Two ---"
   ]
  },
  {
   "cell_type": "code",
   "execution_count": 4,
   "metadata": {},
   "outputs": [
    {
     "name": "stdin",
     "output_type": "stream",
     "text": [
      " 5\n"
     ]
    },
    {
     "name": "stdout",
     "output_type": "stream",
     "text": [
      "9006327\n"
     ]
    }
   ],
   "source": [
    "code = Path(\"input.txt\").read_text().splitlines()\n",
    "code = [int(x) for x in code[0].split(\",\")]\n",
    "part_two = intcode(code)"
   ]
  }
 ],
 "metadata": {
  "kernelspec": {
   "display_name": "Python 3",
   "language": "python",
   "name": "python3"
  },
  "language_info": {
   "codemirror_mode": {
    "name": "ipython",
    "version": 3
   },
   "file_extension": ".py",
   "mimetype": "text/x-python",
   "name": "python",
   "nbconvert_exporter": "python",
   "pygments_lexer": "ipython3",
   "version": "3.7.3"
  }
 },
 "nbformat": 4,
 "nbformat_minor": 4
}
